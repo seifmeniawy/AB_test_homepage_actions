{
 "cells": [
  {
   "cell_type": "markdown",
   "id": "e7476cf0-d924-4aec-bd41-51109fa7a840",
   "metadata": {},
   "source": [
    "# A/B Testing"
   ]
  },
  {
   "cell_type": "markdown",
   "id": "ff56c1a6-d5da-4379-a9e6-ccce3a0ba424",
   "metadata": {},
   "source": [
    "- **Homepage Actions Data**\n",
    "- **Course Page Actions Data**"
   ]
  },
  {
   "cell_type": "markdown",
   "id": "56b8c6d3-84c3-4046-a791-9a438c4ebdb5",
   "metadata": {},
   "source": [
    "## Homepage Actions Data"
   ]
  },
  {
   "cell_type": "markdown",
   "id": "3bee5a02-0797-4bf4-a2a9-97b261d63b39",
   "metadata": {},
   "source": [
    "In this part we investigate whether to implement the new homepage design."
   ]
  },
  {
   "cell_type": "code",
   "execution_count": 1,
   "id": "9082ff6d-40f9-4af8-ad39-5bfc49f14ac0",
   "metadata": {},
   "outputs": [
    {
     "data": {
      "text/html": [
       "<div>\n",
       "<style scoped>\n",
       "    .dataframe tbody tr th:only-of-type {\n",
       "        vertical-align: middle;\n",
       "    }\n",
       "\n",
       "    .dataframe tbody tr th {\n",
       "        vertical-align: top;\n",
       "    }\n",
       "\n",
       "    .dataframe thead th {\n",
       "        text-align: right;\n",
       "    }\n",
       "</style>\n",
       "<table border=\"1\" class=\"dataframe\">\n",
       "  <thead>\n",
       "    <tr style=\"text-align: right;\">\n",
       "      <th></th>\n",
       "      <th>timestamp</th>\n",
       "      <th>id</th>\n",
       "      <th>group</th>\n",
       "      <th>action</th>\n",
       "    </tr>\n",
       "  </thead>\n",
       "  <tbody>\n",
       "    <tr>\n",
       "      <th>0</th>\n",
       "      <td>2016-09-24 17:42:27.839496</td>\n",
       "      <td>804196</td>\n",
       "      <td>experiment</td>\n",
       "      <td>view</td>\n",
       "    </tr>\n",
       "    <tr>\n",
       "      <th>1</th>\n",
       "      <td>2016-09-24 19:19:03.542569</td>\n",
       "      <td>434745</td>\n",
       "      <td>experiment</td>\n",
       "      <td>view</td>\n",
       "    </tr>\n",
       "    <tr>\n",
       "      <th>2</th>\n",
       "      <td>2016-09-24 19:36:00.944135</td>\n",
       "      <td>507599</td>\n",
       "      <td>experiment</td>\n",
       "      <td>view</td>\n",
       "    </tr>\n",
       "    <tr>\n",
       "      <th>3</th>\n",
       "      <td>2016-09-24 19:59:02.646620</td>\n",
       "      <td>671993</td>\n",
       "      <td>control</td>\n",
       "      <td>view</td>\n",
       "    </tr>\n",
       "    <tr>\n",
       "      <th>4</th>\n",
       "      <td>2016-09-24 20:26:14.466886</td>\n",
       "      <td>536734</td>\n",
       "      <td>experiment</td>\n",
       "      <td>view</td>\n",
       "    </tr>\n",
       "  </tbody>\n",
       "</table>\n",
       "</div>"
      ],
      "text/plain": [
       "                    timestamp      id       group action\n",
       "0  2016-09-24 17:42:27.839496  804196  experiment   view\n",
       "1  2016-09-24 19:19:03.542569  434745  experiment   view\n",
       "2  2016-09-24 19:36:00.944135  507599  experiment   view\n",
       "3  2016-09-24 19:59:02.646620  671993     control   view\n",
       "4  2016-09-24 20:26:14.466886  536734  experiment   view"
      ]
     },
     "execution_count": 1,
     "metadata": {},
     "output_type": "execute_result"
    }
   ],
   "source": [
    "import pandas as pd\n",
    "import numpy as np\n",
    "import matplotlib.pyplot as plt\n",
    "%matplotlib inline\n",
    "\n",
    "np.random.seed(42)\n",
    "\n",
    "df = pd.read_csv('homepage_actions.csv')\n",
    "df.head()"
   ]
  },
  {
   "cell_type": "markdown",
   "id": "e913e501-f2c0-4b0e-ae31-bd93a0c85080",
   "metadata": {},
   "source": [
    "#### General characteristics about the dataset:\n",
    "\n",
    "- total number of actions\n",
    "- number of unique users\n",
    "- sizes of the control and experiment groups (i.e., the number of unique users in each group)"
   ]
  },
  {
   "cell_type": "code",
   "execution_count": 2,
   "id": "ebfe4115-1a52-45ae-b186-7bbff1d3acd9",
   "metadata": {},
   "outputs": [
    {
     "data": {
      "text/plain": [
       "8188"
      ]
     },
     "execution_count": 2,
     "metadata": {},
     "output_type": "execute_result"
    }
   ],
   "source": [
    "# total number of actions\n",
    "\n",
    "df['action'].shape[0]"
   ]
  },
  {
   "cell_type": "code",
   "execution_count": 3,
   "id": "8abf96d2-e05b-431f-a643-27b9f5fc0b6d",
   "metadata": {},
   "outputs": [
    {
     "data": {
      "text/plain": [
       "6328"
      ]
     },
     "execution_count": 3,
     "metadata": {},
     "output_type": "execute_result"
    }
   ],
   "source": [
    "# number of unique users\n",
    "\n",
    "df['id'].nunique()"
   ]
  },
  {
   "cell_type": "code",
   "execution_count": 4,
   "id": "3ea1ee08-4739-4907-bbbf-08959f4b5f1a",
   "metadata": {},
   "outputs": [
    {
     "data": {
      "text/plain": [
       "group\n",
       "control       3332\n",
       "experiment    2996\n",
       "Name: id, dtype: int64"
      ]
     },
     "execution_count": 4,
     "metadata": {},
     "output_type": "execute_result"
    }
   ],
   "source": [
    "df['id'].groupby(df['group']).nunique()"
   ]
  },
  {
   "cell_type": "markdown",
   "id": "24ca7bf2-3cc5-44a6-9280-dca3e02d50e1",
   "metadata": {},
   "source": [
    "#### What action types are recorded in this dataset?"
   ]
  },
  {
   "cell_type": "code",
   "execution_count": 5,
   "id": "fcc79e58-392c-4a19-9add-e11429a2c09c",
   "metadata": {},
   "outputs": [
    {
     "data": {
      "text/plain": [
       "view     6328\n",
       "click    1860\n",
       "Name: action, dtype: int64"
      ]
     },
     "execution_count": 5,
     "metadata": {},
     "output_type": "execute_result"
    }
   ],
   "source": [
    "df['action'].value_counts()"
   ]
  },
  {
   "cell_type": "markdown",
   "id": "a4173a09-d5c7-4a7c-9069-b4cc8f8966e7",
   "metadata": {},
   "source": [
    "<br>\n",
    "\n",
    "#### Performing an A/B test to conclude whether the new page design should be implemented."
   ]
  },
  {
   "cell_type": "markdown",
   "id": "8804c1e8-bff2-4609-bd11-4ec6ec83ea1b",
   "metadata": {},
   "source": [
    "Formulating the null and alternative hypotheses.\n",
    "\n",
    "$$ H_0: CTR_{new} - CTR_{old} \\leq 0 $$ \n",
    "$$ H_1: CTR_{new} - CTR_{old} > 0 $$"
   ]
  },
  {
   "cell_type": "code",
   "execution_count": 6,
   "id": "e7d18287-c8d1-4610-9475-d5fd7832eb2b",
   "metadata": {},
   "outputs": [
    {
     "data": {
      "text/plain": [
       "0.2797118847539016"
      ]
     },
     "execution_count": 6,
     "metadata": {},
     "output_type": "execute_result"
    }
   ],
   "source": [
    "# old_ctr\n",
    "control_df = df[df['group'] == 'control']\n",
    "\n",
    "old_ctr = control_df[control_df['action'] == 'click']['id'].nunique()/control_df['id'].nunique()\n",
    "old_ctr"
   ]
  },
  {
   "cell_type": "code",
   "execution_count": 7,
   "id": "97dda2c0-ed63-4aba-8cae-7ae3f81c4225",
   "metadata": {},
   "outputs": [
    {
     "data": {
      "text/plain": [
       "0.3097463284379172"
      ]
     },
     "execution_count": 7,
     "metadata": {},
     "output_type": "execute_result"
    }
   ],
   "source": [
    "# new_ctr\n",
    "experiment_df = df[df['group'] == 'experiment']\n",
    "\n",
    "new_ctr = experiment_df[experiment_df['action'] == 'click']['id'].nunique()/experiment_df['id'].nunique()\n",
    "new_ctr"
   ]
  },
  {
   "cell_type": "code",
   "execution_count": 8,
   "id": "375106c3-0209-4a85-9a58-c0609185b84d",
   "metadata": {},
   "outputs": [
    {
     "data": {
      "text/plain": [
       "0.030034443684015644"
      ]
     },
     "execution_count": 8,
     "metadata": {},
     "output_type": "execute_result"
    }
   ],
   "source": [
    "obs_diff = new_ctr - old_ctr\n",
    "obs_diff"
   ]
  },
  {
   "cell_type": "code",
   "execution_count": 9,
   "id": "657b03db-d4ea-4e03-84c0-273b0c5e3f20",
   "metadata": {},
   "outputs": [],
   "source": [
    "diffs = []\n",
    "\n",
    "for i in range(10000):\n",
    "    b_samp = df.sample(df.shape[0], replace=True)\n",
    "    control_df = b_samp[b_samp['group'] == 'control']\n",
    "    experiment_df = b_samp[b_samp['group'] == 'experiment']\n",
    "    old_ctr = control_df[control_df['action'] == 'click']['id'].nunique()/control_df['id'].nunique()\n",
    "    new_ctr = experiment_df[experiment_df['action'] == 'click']['id'].nunique()/experiment_df['id'].nunique()\n",
    "    diffs.append(new_ctr - old_ctr)"
   ]
  },
  {
   "cell_type": "code",
   "execution_count": 10,
   "id": "43dec42b-3154-4fdb-a550-21fbc9bdad7c",
   "metadata": {},
   "outputs": [
    {
     "data": {
      "image/png": "[encoded data removed]",
      "text/plain": [
       "<Figure size 432x288 with 1 Axes>"
      ]
     },
     "metadata": {
      "needs_background": "light"
     },
     "output_type": "display_data"
    }
   ],
   "source": [
    "diffs = np.array(diffs)\n",
    "\n",
    "plt.hist(diffs);"
   ]
  },
  {
   "cell_type": "markdown",
   "id": "ffc74895-9c8e-4fe0-b433-05b42255638f",
   "metadata": {},
   "source": [
    "#### Simulating from the null"
   ]
  },
  {
   "cell_type": "code",
   "execution_count": 11,
   "id": "1b8240fb-efda-4569-93dd-3aa5e3d7e83a",
   "metadata": {},
   "outputs": [
    {
     "data": {
      "image/png": "[encoded data removed]",
      "text/plain": [
       "<Figure size 432x288 with 1 Axes>"
      ]
     },
     "metadata": {
      "needs_background": "light"
     },
     "output_type": "display_data"
    }
   ],
   "source": [
    "null_vals = np.random.normal(0, diffs.std(), diffs.size)\n",
    "plt.hist(null_vals);"
   ]
  },
  {
   "cell_type": "code",
   "execution_count": 12,
   "id": "c8eb5e66-6979-4304-a859-5c888b78091b",
   "metadata": {},
   "outputs": [
    {
     "data": {
      "image/png": "[encoded data removed]",
      "text/plain": [
       "<Figure size 432x288 with 1 Axes>"
      ]
     },
     "metadata": {
      "needs_background": "light"
     },
     "output_type": "display_data"
    }
   ],
   "source": [
    "plt.hist(null_vals)\n",
    "plt.axvline(x=obs_diff, color='r');"
   ]
  },
  {
   "cell_type": "markdown",
   "id": "ff11f3d5-d95b-4df3-a225-02c60ce80454",
   "metadata": {},
   "source": [
    "#### Calculating p-value"
   ]
  },
  {
   "cell_type": "code",
   "execution_count": 13,
   "id": "f59b0eab-9e5f-4dbd-bd59-d084eb239f2d",
   "metadata": {},
   "outputs": [
    {
     "data": {
      "text/plain": [
       "0.0006"
      ]
     },
     "execution_count": 13,
     "metadata": {},
     "output_type": "execute_result"
    }
   ],
   "source": [
    "p_val = (null_vals > obs_diff).mean()\n",
    "p_val"
   ]
  },
  {
   "cell_type": "markdown",
   "id": "476a439e-dcec-41d1-97ad-5e4e6fef704c",
   "metadata": {},
   "source": [
    "with a p-value of less than **0.01**, which is our type I error rate, it seems unlikely that our statistic is from the null. So based on what we have found we are going to reject the null hypothesis and go with implementing the new page design"
   ]
  },
  {
   "cell_type": "markdown",
   "id": "694491c5-a7fe-4747-9491-6e7db639edd2",
   "metadata": {},
   "source": [
    "## Course Page Actions Data"
   ]
  },
  {
   "cell_type": "markdown",
   "id": "56553769-4357-4c6c-aace-b6a2424eaf1e",
   "metadata": {},
   "source": [
    "In this part we will test whether the change on the course overview page should be implemented, based on multiple metrics."
   ]
  },
  {
   "cell_type": "markdown",
   "id": "cb638407-1e07-4f7c-95e0-35e1dec1cba7",
   "metadata": {},
   "source": [
    "- Enrollment Rate\n",
    "- Average Classroom Time\n",
    "- Completion Time"
   ]
  },
  {
   "cell_type": "code",
   "execution_count": 14,
   "id": "3bd60c86-ccb9-4711-bbd9-fd942655bfef",
   "metadata": {},
   "outputs": [
    {
     "data": {
      "text/html": [
       "<div>\n",
       "<style scoped>\n",
       "    .dataframe tbody tr th:only-of-type {\n",
       "        vertical-align: middle;\n",
       "    }\n",
       "\n",
       "    .dataframe tbody tr th {\n",
       "        vertical-align: top;\n",
       "    }\n",
       "\n",
       "    .dataframe thead th {\n",
       "        text-align: right;\n",
       "    }\n",
       "</style>\n",
       "<table border=\"1\" class=\"dataframe\">\n",
       "  <thead>\n",
       "    <tr style=\"text-align: right;\">\n",
       "      <th></th>\n",
       "      <th>timestamp</th>\n",
       "      <th>id</th>\n",
       "      <th>group</th>\n",
       "      <th>action</th>\n",
       "      <th>duration</th>\n",
       "    </tr>\n",
       "  </thead>\n",
       "  <tbody>\n",
       "    <tr>\n",
       "      <th>0</th>\n",
       "      <td>2016-09-24 17:14:52.012145</td>\n",
       "      <td>261869</td>\n",
       "      <td>experiment</td>\n",
       "      <td>view</td>\n",
       "      <td>130.545004</td>\n",
       "    </tr>\n",
       "    <tr>\n",
       "      <th>1</th>\n",
       "      <td>2016-09-24 18:45:09.645857</td>\n",
       "      <td>226546</td>\n",
       "      <td>experiment</td>\n",
       "      <td>view</td>\n",
       "      <td>159.862440</td>\n",
       "    </tr>\n",
       "    <tr>\n",
       "      <th>2</th>\n",
       "      <td>2016-09-24 19:16:21.002533</td>\n",
       "      <td>286353</td>\n",
       "      <td>experiment</td>\n",
       "      <td>view</td>\n",
       "      <td>79.349315</td>\n",
       "    </tr>\n",
       "    <tr>\n",
       "      <th>3</th>\n",
       "      <td>2016-09-24 19:43:06.927785</td>\n",
       "      <td>842279</td>\n",
       "      <td>experiment</td>\n",
       "      <td>view</td>\n",
       "      <td>55.536126</td>\n",
       "    </tr>\n",
       "    <tr>\n",
       "      <th>4</th>\n",
       "      <td>2016-09-24 21:08:22.790333</td>\n",
       "      <td>781883</td>\n",
       "      <td>experiment</td>\n",
       "      <td>view</td>\n",
       "      <td>204.322437</td>\n",
       "    </tr>\n",
       "  </tbody>\n",
       "</table>\n",
       "</div>"
      ],
      "text/plain": [
       "                    timestamp      id       group action    duration\n",
       "0  2016-09-24 17:14:52.012145  261869  experiment   view  130.545004\n",
       "1  2016-09-24 18:45:09.645857  226546  experiment   view  159.862440\n",
       "2  2016-09-24 19:16:21.002533  286353  experiment   view   79.349315\n",
       "3  2016-09-24 19:43:06.927785  842279  experiment   view   55.536126\n",
       "4  2016-09-24 21:08:22.790333  781883  experiment   view  204.322437"
      ]
     },
     "execution_count": 14,
     "metadata": {},
     "output_type": "execute_result"
    }
   ],
   "source": [
    "df = pd.read_csv('course_page_actions.csv')\n",
    "df.head()"
   ]
  },
  {
   "cell_type": "code",
   "execution_count": 15,
   "id": "32000bd6-e57d-4450-9cdb-10e65580b491",
   "metadata": {},
   "outputs": [
    {
     "data": {
      "text/plain": [
       "view      3260\n",
       "enroll     814\n",
       "Name: action, dtype: int64"
      ]
     },
     "execution_count": 15,
     "metadata": {},
     "output_type": "execute_result"
    }
   ],
   "source": [
    "df['action'].value_counts()"
   ]
  },
  {
   "cell_type": "markdown",
   "id": "221dc2e5-e16a-43b9-a610-361b80b7cef4",
   "metadata": {},
   "source": [
    "<br>"
   ]
  },
  {
   "cell_type": "markdown",
   "id": "3aa3615e-59e5-4aaf-8a93-5a40a45f8d18",
   "metadata": {},
   "source": [
    "### Enrollment Rate"
   ]
  },
  {
   "cell_type": "markdown",
   "id": "e86d2266-73d6-42b8-9e9e-3b9775e72f52",
   "metadata": {},
   "source": [
    "#### Performing an A/B test to conclude whether the new change on the course overview page should be implemented based on the enrollment rate"
   ]
  },
  {
   "cell_type": "markdown",
   "id": "908f51cf-94d8-48d5-a20e-4e042ed93844",
   "metadata": {},
   "source": [
    "Formulating the null and alternative hypotheses\n",
    "<br>\n",
    "$$ H_0: CTR_{new} - CTR_{old} \\leq 0 $$\n",
    "$$ H_1: CTR_{new} - CTR_{old} > 0 $$"
   ]
  },
  {
   "cell_type": "code",
   "execution_count": 16,
   "id": "51929970-0c72-40e0-8605-22a1208f4aec",
   "metadata": {},
   "outputs": [
    {
     "data": {
      "text/plain": [
       "0.2364438839848676"
      ]
     },
     "execution_count": 16,
     "metadata": {},
     "output_type": "execute_result"
    }
   ],
   "source": [
    "# Get dataframe with all records from control group\n",
    "control_df = df.query('group == \"control\"')\n",
    "\n",
    "# Compute click-through rate (ctr) for control group\n",
    "old_ctr = control_df.query('action == \"enroll\"')['id'].nunique()/control_df.query('action == \"view\"')['id'].nunique()\n",
    "old_ctr"
   ]
  },
  {
   "cell_type": "code",
   "execution_count": 17,
   "id": "0b8bbcbc-89b2-4358-8823-32408717fc44",
   "metadata": {},
   "outputs": [
    {
     "data": {
      "text/plain": [
       "0.2668693009118541"
      ]
     },
     "execution_count": 17,
     "metadata": {},
     "output_type": "execute_result"
    }
   ],
   "source": [
    "# Get dataframe with all records from experiment group\n",
    "experiment_df = df.query('group == \"experiment\"')\n",
    "\n",
    "# Compute click-through rate (ctr) for control group\n",
    "new_ctr = experiment_df.query('action == \"enroll\"')['id'].nunique()/experiment_df.query('action == \"view\"')['id'].nunique()\n",
    "new_ctr"
   ]
  },
  {
   "cell_type": "code",
   "execution_count": 18,
   "id": "68987aa7-0d9a-4c83-9ed0-bf703401057f",
   "metadata": {},
   "outputs": [
    {
     "data": {
      "text/plain": [
       "0.030425416926986526"
      ]
     },
     "execution_count": 18,
     "metadata": {},
     "output_type": "execute_result"
    }
   ],
   "source": [
    "# Compute the observed difference in click through rates\n",
    "obs_diff = new_ctr - old_ctr\n",
    "obs_diff"
   ]
  },
  {
   "cell_type": "code",
   "execution_count": 19,
   "id": "11319103-0e84-407f-b62e-7b6c6b426a33",
   "metadata": {},
   "outputs": [],
   "source": [
    "# Create a bootstrap sampling distribution for the difference in proportions\n",
    "diffs = []\n",
    "\n",
    "for i in range(10000):\n",
    "    b_samp = df.sample(df.shape[0], replace=True)\n",
    "    control_df = b_samp.query('group == \"control\"')\n",
    "    experiment_df = b_samp.query('group == \"experiment\"')\n",
    "    old_ctr = control_df.query('action == \"enroll\"')['id'].nunique()/control_df.query('action == \"view\"')['id'].nunique()\n",
    "    new_ctr = experiment_df.query('action == \"enroll\"')['id'].nunique()/experiment_df.query('action == \"view\"')['id'].nunique()\n",
    "    diffs.append(new_ctr - old_ctr)"
   ]
  },
  {
   "cell_type": "code",
   "execution_count": 20,
   "id": "73deed5e-ff52-40de-9378-a200d9e93677",
   "metadata": {},
   "outputs": [
    {
     "data": {
      "image/png": "[encoded data removed]",
      "text/plain": [
       "<Figure size 432x288 with 1 Axes>"
      ]
     },
     "metadata": {
      "needs_background": "light"
     },
     "output_type": "display_data"
    }
   ],
   "source": [
    "diffs = np.array(diffs)\n",
    "plt.hist(diffs);"
   ]
  },
  {
   "cell_type": "markdown",
   "id": "b021c45d-3097-4a17-9252-ac2bb236d455",
   "metadata": {},
   "source": [
    "#### Simulating from the null"
   ]
  },
  {
   "cell_type": "code",
   "execution_count": 21,
   "id": "5c96ca26-3551-4374-afce-44f87021d5d7",
   "metadata": {},
   "outputs": [],
   "source": [
    "null_vals = np.random.normal(0, diffs.std(), diffs.size)"
   ]
  },
  {
   "cell_type": "code",
   "execution_count": 22,
   "id": "22a16472-2e84-4937-a355-7247c28fcfae",
   "metadata": {},
   "outputs": [
    {
     "data": {
      "text/plain": [
       "<matplotlib.lines.Line2D at 0x119e9dfd0>"
      ]
     },
     "execution_count": 22,
     "metadata": {},
     "output_type": "execute_result"
    },
    {
     "data": {
      "image/png": "[encoded data removed]",
      "text/plain": [
       "<Figure size 432x288 with 1 Axes>"
      ]
     },
     "metadata": {
      "needs_background": "light"
     },
     "output_type": "display_data"
    }
   ],
   "source": [
    "plt.hist(null_vals)\n",
    "plt.axvline(x=obs_diff, color='r')"
   ]
  },
  {
   "cell_type": "markdown",
   "id": "d4f9fd8e-f6c1-47c6-a2e7-18f66747da7e",
   "metadata": {},
   "source": [
    "#### Calculating p-value"
   ]
  },
  {
   "cell_type": "code",
   "execution_count": 23,
   "id": "431e3b16-49bc-40b0-9b65-2da9f81db2fd",
   "metadata": {},
   "outputs": [
    {
     "data": {
      "text/plain": [
       "0.0203"
      ]
     },
     "execution_count": 23,
     "metadata": {},
     "output_type": "execute_result"
    }
   ],
   "source": [
    "pval = (null_vals > obs_diff).mean()\n",
    "pval"
   ]
  },
  {
   "cell_type": "markdown",
   "id": "ccae8317-3ebb-4034-a9de-a43b0e376fab",
   "metadata": {},
   "source": [
    "with a p-value of less than **0.05**, which is our type I error rate, it seems unlikely that our statistic is from the null. Based on what we have found, we have evidence that the enrollment rate for this course increases when using the experimental description on its overview page. Therefore, we should go with implementing the experimental description on the course's overview page."
   ]
  },
  {
   "cell_type": "markdown",
   "id": "985c1bc4-ca21-4055-8a3a-7751858fce09",
   "metadata": {
    "tags": []
   },
   "source": [
    "### Average Classroom Time"
   ]
  },
  {
   "cell_type": "markdown",
   "id": "5cd37a17-bd33-4b4c-9e67-7e30110bad0e",
   "metadata": {},
   "source": [
    "#### Performing an A/B test to conclude whether new users spend more time in the classroom after seeing the experimental description in the overview page"
   ]
  },
  {
   "cell_type": "markdown",
   "id": "8dda9329-8abb-4b67-8866-284ea3235e6c",
   "metadata": {},
   "source": [
    "Formulating the null and alternative hypotheses\n",
    "<br>\n",
    "$$ H_0: Time_{new} - Time_{old} \\leq 0 $$\n",
    "$$ H_1: Time_{new} - Time_{old} > 0 $$"
   ]
  },
  {
   "cell_type": "code",
   "execution_count": 24,
   "id": "8df4e657-2018-4d39-94e9-a235314b85f7",
   "metadata": {},
   "outputs": [
    {
     "data": {
      "text/html": [
       "<div>\n",
       "<style scoped>\n",
       "    .dataframe tbody tr th:only-of-type {\n",
       "        vertical-align: middle;\n",
       "    }\n",
       "\n",
       "    .dataframe tbody tr th {\n",
       "        vertical-align: top;\n",
       "    }\n",
       "\n",
       "    .dataframe thead th {\n",
       "        text-align: right;\n",
       "    }\n",
       "</style>\n",
       "<table border=\"1\" class=\"dataframe\">\n",
       "  <thead>\n",
       "    <tr style=\"text-align: right;\">\n",
       "      <th></th>\n",
       "      <th>timestamp</th>\n",
       "      <th>id</th>\n",
       "      <th>group</th>\n",
       "      <th>total_days</th>\n",
       "      <th>completed</th>\n",
       "    </tr>\n",
       "  </thead>\n",
       "  <tbody>\n",
       "    <tr>\n",
       "      <th>0</th>\n",
       "      <td>2015-08-10 17:06:01.032740</td>\n",
       "      <td>610019</td>\n",
       "      <td>experiment</td>\n",
       "      <td>97</td>\n",
       "      <td>True</td>\n",
       "    </tr>\n",
       "    <tr>\n",
       "      <th>1</th>\n",
       "      <td>2015-08-10 17:15:28.950975</td>\n",
       "      <td>690224</td>\n",
       "      <td>control</td>\n",
       "      <td>75</td>\n",
       "      <td>False</td>\n",
       "    </tr>\n",
       "    <tr>\n",
       "      <th>2</th>\n",
       "      <td>2015-08-10 17:34:40.920384</td>\n",
       "      <td>564994</td>\n",
       "      <td>experiment</td>\n",
       "      <td>128</td>\n",
       "      <td>True</td>\n",
       "    </tr>\n",
       "    <tr>\n",
       "      <th>3</th>\n",
       "      <td>2015-08-10 17:50:39.847374</td>\n",
       "      <td>849588</td>\n",
       "      <td>experiment</td>\n",
       "      <td>66</td>\n",
       "      <td>False</td>\n",
       "    </tr>\n",
       "    <tr>\n",
       "      <th>4</th>\n",
       "      <td>2015-08-10 19:10:40.650599</td>\n",
       "      <td>849826</td>\n",
       "      <td>experiment</td>\n",
       "      <td>34</td>\n",
       "      <td>False</td>\n",
       "    </tr>\n",
       "  </tbody>\n",
       "</table>\n",
       "</div>"
      ],
      "text/plain": [
       "                    timestamp      id       group  total_days  completed\n",
       "0  2015-08-10 17:06:01.032740  610019  experiment          97       True\n",
       "1  2015-08-10 17:15:28.950975  690224     control          75      False\n",
       "2  2015-08-10 17:34:40.920384  564994  experiment         128       True\n",
       "3  2015-08-10 17:50:39.847374  849588  experiment          66      False\n",
       "4  2015-08-10 19:10:40.650599  849826  experiment          34      False"
      ]
     },
     "execution_count": 24,
     "metadata": {},
     "output_type": "execute_result"
    }
   ],
   "source": [
    "df = pd.read_csv('classroom_actions.csv')\n",
    "df.head()"
   ]
  },
  {
   "cell_type": "code",
   "execution_count": 27,
   "id": "47a585db-bfdb-4d87-956a-b7277612f71c",
   "metadata": {},
   "outputs": [
    {
     "data": {
      "text/plain": [
       "73.36899038461539"
      ]
     },
     "execution_count": 27,
     "metadata": {},
     "output_type": "execute_result"
    }
   ],
   "source": [
    "# average classroom time for control group\n",
    "control_group = df.query('group == \"control\"')\n",
    "\n",
    "c_mean = control_group['total_days'].mean()\n",
    "c_mean"
   ]
  },
  {
   "cell_type": "code",
   "execution_count": 28,
   "id": "11c68c5e-48ae-4086-b1c4-046a61afb683",
   "metadata": {},
   "outputs": [
    {
     "data": {
      "text/plain": [
       "74.6715935334873"
      ]
     },
     "execution_count": 28,
     "metadata": {},
     "output_type": "execute_result"
    }
   ],
   "source": [
    "# average classroom time for experiment group\n",
    "experiment_group = df.query('group == \"experiment\"')\n",
    "\n",
    "e_mean = experiment_group['total_days'].mean()\n",
    "e_mean"
   ]
  },
  {
   "cell_type": "code",
   "execution_count": 29,
   "id": "67a646ed-f5fa-4b9c-8895-7ade41fb5b3e",
   "metadata": {},
   "outputs": [
    {
     "data": {
      "text/plain": [
       "1.3026031488719099"
      ]
     },
     "execution_count": 29,
     "metadata": {},
     "output_type": "execute_result"
    }
   ],
   "source": [
    "# compute observed difference in classroom time\n",
    "obs_diff = e_mean - c_mean\n",
    "obs_diff"
   ]
  },
  {
   "cell_type": "code",
   "execution_count": 30,
   "id": "eadbc1c1-2f67-4a2c-bd88-1c701c594fd1",
   "metadata": {},
   "outputs": [],
   "source": [
    "# create sampling distribution of difference in average classroom times with bootstrapping\n",
    "diffs = []\n",
    "\n",
    "for i in range(10000):\n",
    "    b_samp = df.sample(df.shape[0], replace=True)\n",
    "    control_group = b_samp.query('group == \"control\"')\n",
    "    experiment_group = b_samp.query('group == \"experiment\"')\n",
    "    c_mean = control_group['total_days'].mean()\n",
    "    e_mean = experiment_group['total_days'].mean()\n",
    "    diffs.append(e_mean - c_mean)"
   ]
  },
  {
   "cell_type": "code",
   "execution_count": 31,
   "id": "705f8dce-6b97-4853-9a8f-cd28d5bcbd42",
   "metadata": {},
   "outputs": [
    {
     "data": {
      "image/png": "[encoded data removed]",
      "text/plain": [
       "<Figure size 432x288 with 1 Axes>"
      ]
     },
     "metadata": {
      "needs_background": "light"
     },
     "output_type": "display_data"
    }
   ],
   "source": [
    "diffs = np.array(diffs)\n",
    "\n",
    "plt.hist(diffs);"
   ]
  },
  {
   "cell_type": "markdown",
   "id": "6849900e-3706-4027-8c55-cafc5d6ff6fb",
   "metadata": {},
   "source": [
    "#### Simulating from the null"
   ]
  },
  {
   "cell_type": "code",
   "execution_count": 32,
   "id": "5144b687-bcb5-4a79-9e0f-c77235441209",
   "metadata": {},
   "outputs": [
    {
     "data": {
      "text/plain": [
       "<matplotlib.lines.Line2D at 0x119539a60>"
      ]
     },
     "execution_count": 32,
     "metadata": {},
     "output_type": "execute_result"
    },
    {
     "data": {
      "image/png": "[encoded data removed]",
      "text/plain": [
       "<Figure size 432x288 with 1 Axes>"
      ]
     },
     "metadata": {
      "needs_background": "light"
     },
     "output_type": "display_data"
    }
   ],
   "source": [
    "null_vals = np.random.normal(0, diffs.std(), diffs.size)\n",
    "plt.hist(null_vals)\n",
    "plt.axvline(x=obs_diff, color='r')"
   ]
  },
  {
   "cell_type": "markdown",
   "id": "792bd329-c5eb-446d-92ef-1c2e51251db0",
   "metadata": {},
   "source": [
    "#### Calculating p-value"
   ]
  },
  {
   "cell_type": "code",
   "execution_count": 34,
   "id": "7ec77f7b-0d7d-4184-9e21-39c24056310a",
   "metadata": {},
   "outputs": [
    {
     "data": {
      "text/plain": [
       "0.0395"
      ]
     },
     "execution_count": 34,
     "metadata": {},
     "output_type": "execute_result"
    }
   ],
   "source": [
    "pval = (null_vals > obs_diff).mean()\n",
    "pval"
   ]
  },
  {
   "cell_type": "markdown",
   "id": "93f2a319-bb99-4aa2-a1fe-df57ce32dc19",
   "metadata": {},
   "source": [
    "with a p-value of less than **0.05**, which is our type I error rate, it seems unlikely that our statistic is from the null. Based on what we have found, we have evidence that users spend more time in the classroom after seeing the experimental description on the course overview page. Therefore, we should go with implementing the experimental description on the course's overview page."
   ]
  },
  {
   "cell_type": "markdown",
   "id": "367ec5f0-3e33-4855-b4cc-5963084be818",
   "metadata": {},
   "source": [
    "### Completion Rate"
   ]
  },
  {
   "cell_type": "markdown",
   "id": "1a23b3c7-1b19-4c78-9588-94a09e56839d",
   "metadata": {},
   "source": [
    "#### Performing an A/B test to conclude whether the completion rate for this course increases when using the experimental description on the course's overview page"
   ]
  },
  {
   "cell_type": "markdown",
   "id": "9f376b21-85fb-4d27-9f2e-dc5440678eab",
   "metadata": {},
   "source": [
    "Formulating the null and alternative hypotheses\n",
    "<br>\n",
    "$$ H_0: CR_{new} - CR_{old} \\leq 0 $$\n",
    "$$ H_1: CR_{new} - CR_{old} > 0 $$"
   ]
  },
  {
   "cell_type": "code",
   "execution_count": 35,
   "id": "df172107-084d-4c4f-b3ef-d0f2da36c10d",
   "metadata": {},
   "outputs": [
    {
     "data": {
      "text/html": [
       "<div>\n",
       "<style scoped>\n",
       "    .dataframe tbody tr th:only-of-type {\n",
       "        vertical-align: middle;\n",
       "    }\n",
       "\n",
       "    .dataframe tbody tr th {\n",
       "        vertical-align: top;\n",
       "    }\n",
       "\n",
       "    .dataframe thead th {\n",
       "        text-align: right;\n",
       "    }\n",
       "</style>\n",
       "<table border=\"1\" class=\"dataframe\">\n",
       "  <thead>\n",
       "    <tr style=\"text-align: right;\">\n",
       "      <th></th>\n",
       "      <th>timestamp</th>\n",
       "      <th>id</th>\n",
       "      <th>group</th>\n",
       "      <th>total_days</th>\n",
       "      <th>completed</th>\n",
       "    </tr>\n",
       "  </thead>\n",
       "  <tbody>\n",
       "    <tr>\n",
       "      <th>0</th>\n",
       "      <td>2015-08-10 17:06:01.032740</td>\n",
       "      <td>610019</td>\n",
       "      <td>experiment</td>\n",
       "      <td>97</td>\n",
       "      <td>True</td>\n",
       "    </tr>\n",
       "    <tr>\n",
       "      <th>1</th>\n",
       "      <td>2015-08-10 17:15:28.950975</td>\n",
       "      <td>690224</td>\n",
       "      <td>control</td>\n",
       "      <td>75</td>\n",
       "      <td>False</td>\n",
       "    </tr>\n",
       "    <tr>\n",
       "      <th>2</th>\n",
       "      <td>2015-08-10 17:34:40.920384</td>\n",
       "      <td>564994</td>\n",
       "      <td>experiment</td>\n",
       "      <td>128</td>\n",
       "      <td>True</td>\n",
       "    </tr>\n",
       "    <tr>\n",
       "      <th>3</th>\n",
       "      <td>2015-08-10 17:50:39.847374</td>\n",
       "      <td>849588</td>\n",
       "      <td>experiment</td>\n",
       "      <td>66</td>\n",
       "      <td>False</td>\n",
       "    </tr>\n",
       "    <tr>\n",
       "      <th>4</th>\n",
       "      <td>2015-08-10 19:10:40.650599</td>\n",
       "      <td>849826</td>\n",
       "      <td>experiment</td>\n",
       "      <td>34</td>\n",
       "      <td>False</td>\n",
       "    </tr>\n",
       "  </tbody>\n",
       "</table>\n",
       "</div>"
      ],
      "text/plain": [
       "                    timestamp      id       group  total_days  completed\n",
       "0  2015-08-10 17:06:01.032740  610019  experiment          97       True\n",
       "1  2015-08-10 17:15:28.950975  690224     control          75      False\n",
       "2  2015-08-10 17:34:40.920384  564994  experiment         128       True\n",
       "3  2015-08-10 17:50:39.847374  849588  experiment          66      False\n",
       "4  2015-08-10 19:10:40.650599  849826  experiment          34      False"
      ]
     },
     "execution_count": 35,
     "metadata": {},
     "output_type": "execute_result"
    }
   ],
   "source": [
    "df = pd.read_csv('classroom_actions.csv')\n",
    "df.head()"
   ]
  },
  {
   "cell_type": "code",
   "execution_count": 38,
   "id": "1361be31-55ae-42fd-a2e1-3eacb41fbf97",
   "metadata": {},
   "outputs": [
    {
     "data": {
      "text/plain": [
       "0.3719951923076923"
      ]
     },
     "execution_count": 38,
     "metadata": {},
     "output_type": "execute_result"
    }
   ],
   "source": [
    "# Compute completion rate for control group\n",
    "control_group = df.query('group == \"control\"')\n",
    "c_cr = control_group[control_group['completed'] == True].shape[0]/control_group.shape[0]\n",
    "c_cr"
   ]
  },
  {
   "cell_type": "code",
   "execution_count": 40,
   "id": "005af165-9d28-4656-a9d6-bbe33c695fd6",
   "metadata": {},
   "outputs": [
    {
     "data": {
      "text/plain": [
       "0.3935334872979215"
      ]
     },
     "execution_count": 40,
     "metadata": {},
     "output_type": "execute_result"
    }
   ],
   "source": [
    "# Compute completion rate for experiment group\n",
    "experiment_group = df.query('group == \"experiment\"')\n",
    "e_cr = experiment_group[experiment_group['completed'] == True].shape[0]/experiment_group.shape[0]\n",
    "e_cr"
   ]
  },
  {
   "cell_type": "code",
   "execution_count": 41,
   "id": "2d27503e-7864-4e05-a59b-bfddc2ad6fc6",
   "metadata": {},
   "outputs": [
    {
     "data": {
      "text/plain": [
       "0.02153829499022919"
      ]
     },
     "execution_count": 41,
     "metadata": {},
     "output_type": "execute_result"
    }
   ],
   "source": [
    "# Compute observable difference \n",
    "obs_diff = e_cr - c_cr\n",
    "obs_diff"
   ]
  },
  {
   "cell_type": "code",
   "execution_count": 42,
   "id": "16acd325-df0c-44fe-9904-bc00368651be",
   "metadata": {},
   "outputs": [],
   "source": [
    "# create sampling distribution of difference in completion rates with bootstrapping\n",
    "diffs = []\n",
    "\n",
    "for i in range(10000):\n",
    "    b_samp = df.sample(df.shape[0], replace=True)\n",
    "    control_group = b_samp.query('group == \"control\"')\n",
    "    experiment_group = b_samp.query('group == \"experiment\"')\n",
    "    c_cr = control_group[control_group['completed'] == True].shape[0]/control_group.shape[0]\n",
    "    e_cr = experiment_group[experiment_group['completed'] == True].shape[0]/experiment_group.shape[0]\n",
    "    diffs.append(e_cr - c_cr)"
   ]
  },
  {
   "cell_type": "code",
   "execution_count": 43,
   "id": "2c361818-5dfa-4084-b464-ea4692d307a9",
   "metadata": {},
   "outputs": [
    {
     "data": {
      "image/png": "[encoded data removed]",
      "text/plain": [
       "<Figure size 432x288 with 1 Axes>"
      ]
     },
     "metadata": {
      "needs_background": "light"
     },
     "output_type": "display_data"
    }
   ],
   "source": [
    "diffs = np.array(diffs)\n",
    "\n",
    "plt.hist(diffs);"
   ]
  },
  {
   "cell_type": "markdown",
   "id": "4bdfe193-41bd-4e48-a4f4-af4dc3f8fbc6",
   "metadata": {},
   "source": [
    "#### Simulating from the null"
   ]
  },
  {
   "cell_type": "code",
   "execution_count": 44,
   "id": "0923855e-f751-4782-aa54-e3737bb3f2f7",
   "metadata": {},
   "outputs": [
    {
     "data": {
      "image/png": "[encoded data removed]",
      "text/plain": [
       "<Figure size 432x288 with 1 Axes>"
      ]
     },
     "metadata": {
      "needs_background": "light"
     },
     "output_type": "display_data"
    }
   ],
   "source": [
    "null_vals = np.random.normal(0, diffs.std(), diffs.size)\n",
    "\n",
    "plt.hist(null_vals)\n",
    "plt.axvline(x=obs_diff, color='r');"
   ]
  },
  {
   "cell_type": "markdown",
   "id": "269f0eb4-15e7-40a8-9deb-6d20a608c954",
   "metadata": {},
   "source": [
    "#### Calculating p-value"
   ]
  },
  {
   "cell_type": "code",
   "execution_count": 45,
   "id": "1c02a414-e444-41be-a354-c993b48bf3ae",
   "metadata": {},
   "outputs": [
    {
     "data": {
      "text/plain": [
       "0.0882"
      ]
     },
     "execution_count": 45,
     "metadata": {},
     "output_type": "execute_result"
    }
   ],
   "source": [
    "pval = (null_vals > obs_diff).mean()\n",
    "pval"
   ]
  },
  {
   "cell_type": "markdown",
   "id": "d3a8b175-cd40-40d2-970c-94288dafc490",
   "metadata": {},
   "source": [
    "with a p-value of more than **0.05**, which is our type I error rate, it seems likely that our statistic is from the null. Based on what we have found, we have evidence that the completion rate for this course does not increase when using the experimental description on the course's overview page."
   ]
  }
 ],
 "metadata": {
  "kernelspec": {
   "display_name": "Python 3 (ipykernel)",
   "language": "python",
   "name": "python3"
  },
  "language_info": {
   "codemirror_mode": {
    "name": "ipython",
    "version": 3
   },
   "file_extension": ".py",
   "mimetype": "text/x-python",
   "name": "python",
   "nbconvert_exporter": "python",
   "pygments_lexer": "ipython3",
   "version": "3.9.15"
  }
 },
 "nbformat": 4,
 "nbformat_minor": 5
}
